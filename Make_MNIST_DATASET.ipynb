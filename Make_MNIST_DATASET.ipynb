{
  "nbformat": 4,
  "nbformat_minor": 0,
  "metadata": {
    "colab": {
      "provenance": [],
      "toc_visible": true
    },
    "kernelspec": {
      "name": "python3",
      "display_name": "Python 3"
    },
    "language_info": {
      "name": "python"
    }
  },
  "cells": [
    {
      "cell_type": "code",
      "execution_count": 1,
      "metadata": {
        "id": "1BkRIkS59oRC",
        "outputId": "0fc00869-be73-4373-ea7f-1b60de99013e",
        "colab": {
          "base_uri": "https://localhost:8080/"
        }
      },
      "outputs": [
        {
          "output_type": "stream",
          "name": "stdout",
          "text": [
            "Downloading data from https://storage.googleapis.com/tensorflow/tf-keras-datasets/mnist.npz\n",
            "\u001b[1m11490434/11490434\u001b[0m \u001b[32m━━━━━━━━━━━━━━━━━━━━\u001b[0m\u001b[37m\u001b[0m \u001b[1m0s\u001b[0m 0us/step\n",
            "Saved mnist_0_0.mem\n",
            "Saved mnist_0_1.mem\n",
            "Saved mnist_0_2.mem\n",
            "Saved mnist_0_3.mem\n",
            "Saved mnist_0_4.mem\n",
            "Saved mnist_0_5.mem\n",
            "Saved mnist_0_6.mem\n",
            "Saved mnist_0_7.mem\n",
            "Saved mnist_0_8.mem\n",
            "Saved mnist_0_9.mem\n",
            "Saved mnist_0_10.mem\n",
            "Saved mnist_0_11.mem\n",
            "Saved mnist_0_12.mem\n",
            "Saved mnist_0_13.mem\n",
            "Saved mnist_0_14.mem\n",
            "Saved mnist_0_15.mem\n",
            "Saved mnist_0_16.mem\n",
            "Saved mnist_0_17.mem\n",
            "Saved mnist_0_18.mem\n",
            "Saved mnist_0_19.mem\n",
            "Saved mnist_1_0.mem\n",
            "Saved mnist_1_1.mem\n",
            "Saved mnist_1_2.mem\n",
            "Saved mnist_1_3.mem\n",
            "Saved mnist_1_4.mem\n",
            "Saved mnist_1_5.mem\n",
            "Saved mnist_1_6.mem\n",
            "Saved mnist_1_7.mem\n",
            "Saved mnist_1_8.mem\n",
            "Saved mnist_1_9.mem\n",
            "Saved mnist_1_10.mem\n",
            "Saved mnist_1_11.mem\n",
            "Saved mnist_1_12.mem\n",
            "Saved mnist_1_13.mem\n",
            "Saved mnist_1_14.mem\n",
            "Saved mnist_1_15.mem\n",
            "Saved mnist_1_16.mem\n",
            "Saved mnist_1_17.mem\n",
            "Saved mnist_1_18.mem\n",
            "Saved mnist_1_19.mem\n",
            "\n",
            "All 20 .mem files have been created.\n"
          ]
        }
      ],
      "source": [
        "import numpy as np\n",
        "import tensorflow as tf\n",
        "from tensorflow.keras.datasets import mnist\n",
        "\n",
        "# MNIST 데이터셋 로드\n",
        "(train_images_raw, train_labels_raw), (_, _) = mnist.load_data()\n",
        "\n",
        "# 훈련 데이터에서 0과 1 이미지 필터링\n",
        "train_images_0 = train_images_raw[np.where(train_labels_raw == 0)]\n",
        "train_images_1 = train_images_raw[np.where(train_labels_raw == 1)]\n",
        "\n",
        "# 각 클래스에서 10개씩 선택 (총 20개)\n",
        "num_to_get = 20\n",
        "selected_images_0 = train_images_0[:num_to_get]\n",
        "selected_images_1 = train_images_1[:num_to_get]\n",
        "\n",
        "# .mem 파일로 저장하는 함수\n",
        "def dump_mem_uint8_hex(filename, arr_flat):\n",
        "    with open(filename, \"w\") as f:\n",
        "        # arr_flat은 1차원 배열이어야 합니다.\n",
        "        for v in arr_flat.astype(np.uint8):\n",
        "            f.write(f\"{v:02X}\\n\") # 1줄 = 1바이트 HEX (00 ~ FF)\n",
        "\n",
        "# 숫자 0 이미지 10개를 10개의 .mem 파일로 저장\n",
        "for i in range(num_to_get):\n",
        "    img_flat = selected_images_0[i].flatten()\n",
        "    filename = f'mnist_0_{i}.mem'\n",
        "    dump_mem_uint8_hex(filename, img_flat)\n",
        "    print(f\"Saved {filename}\")\n",
        "\n",
        "# 숫자 1 이미지 10개를 10개의 .mem 파일로 저장\n",
        "for i in range(num_to_get):\n",
        "    img_flat = selected_images_1[i].flatten()\n",
        "    filename = f'mnist_1_{i}.mem'\n",
        "    dump_mem_uint8_hex(filename, img_flat)\n",
        "    print(f\"Saved {filename}\")\n",
        "\n",
        "print(\"\\nAll 20 .mem files have been created.\")"
      ]
    },
    {
      "cell_type": "code",
      "source": [],
      "metadata": {
        "id": "-oxJmTMD9pTE"
      },
      "execution_count": null,
      "outputs": []
    }
  ]
}